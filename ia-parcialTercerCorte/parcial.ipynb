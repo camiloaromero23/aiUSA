{
 "metadata": {
  "language_info": {
   "codemirror_mode": {
    "name": "ipython",
    "version": 3
   },
   "file_extension": ".py",
   "mimetype": "text/x-python",
   "name": "python",
   "nbconvert_exporter": "python",
   "pygments_lexer": "ipython3",
   "version": "3.8.5-final"
  },
  "orig_nbformat": 2,
  "kernelspec": {
   "name": "python3",
   "display_name": "Python 3.8.5 64-bit ('ia-parcialTercerCorte': pipenv)",
   "metadata": {
    "interpreter": {
     "hash": "7f19769296c9eb5b167feaee479f04b50f4cfe7317beb05ce6e530a4e5c01f59"
    }
   }
  }
 },
 "nbformat": 4,
 "nbformat_minor": 2,
 "cells": [
  {
   "cell_type": "code",
   "execution_count": 130,
   "metadata": {},
   "outputs": [
    {
     "output_type": "stream",
     "name": "stdout",
     "text": [
      "Requirement already satisfied: sklearn in /home/camilo/.local/share/virtualenvs/ia-parcialTercerCorte-Imu8WIYC/lib/python3.8/site-packages (0.0)\n",
      "Requirement already satisfied: scikit-learn in /home/camilo/.local/share/virtualenvs/ia-parcialTercerCorte-Imu8WIYC/lib/python3.8/site-packages (from sklearn) (0.23.2)\n",
      "Requirement already satisfied: joblib>=0.11 in /home/camilo/.local/share/virtualenvs/ia-parcialTercerCorte-Imu8WIYC/lib/python3.8/site-packages (from scikit-learn->sklearn) (0.17.0)\n",
      "Requirement already satisfied: threadpoolctl>=2.0.0 in /home/camilo/.local/share/virtualenvs/ia-parcialTercerCorte-Imu8WIYC/lib/python3.8/site-packages (from scikit-learn->sklearn) (2.1.0)\n",
      "Requirement already satisfied: scipy>=0.19.1 in /home/camilo/.local/share/virtualenvs/ia-parcialTercerCorte-Imu8WIYC/lib/python3.8/site-packages (from scikit-learn->sklearn) (1.5.4)\n",
      "Requirement already satisfied: numpy>=1.13.3 in /home/camilo/.local/share/virtualenvs/ia-parcialTercerCorte-Imu8WIYC/lib/python3.8/site-packages (from scikit-learn->sklearn) (1.19.4)\n",
      "\u001b[33mWARNING: You are using pip version 20.2.4; however, version 20.3.1 is available.\n",
      "You should consider upgrading via the '/home/camilo/.local/share/virtualenvs/ia-parcialTercerCorte-Imu8WIYC/bin/python -m pip install --upgrade pip' command.\u001b[0m\n",
      "Note: you may need to restart the kernel to use updated packages.\n"
     ]
    }
   ],
   "source": [
    "pip install sklearn"
   ]
  },
  {
   "cell_type": "code",
   "execution_count": 131,
   "metadata": {},
   "outputs": [],
   "source": [
    "import pandas as pd\n",
    "import numpy as np\n",
    "import matplotlib.pyplot as plt\n",
    "import seaborn as sns\n",
    "import graphviz \n",
    "\n",
    "from sklearn.model_selection import KFold\n",
    "from sklearn.linear_model import LogisticRegression,LinearRegression\n",
    "from sklearn.tree import DecisionTreeClassifier\n",
    "from sklearn.neural_network import MLPClassifier\n",
    "from sklearn.metrics import mean_absolute_error, mean_squared_error, r2_score, recall_score, precision_score, accuracy_score"
   ]
  },
  {
   "cell_type": "code",
   "execution_count": 132,
   "metadata": {},
   "outputs": [],
   "source": [
    "\"\"\" Clase Regresión Lineal \"\"\"\n",
    "class RegresionLineal:\n",
    "    def __init__(self,alpha,iter):\n",
    "        self.alpha = alpha\n",
    "        self.iter = iter\n",
    "    \n",
    "    def fit(data):\n",
    "        pass\n",
    "\n",
    "    def predict(data):\n",
    "        pass\n",
    "\n",
    "    def probab_predic(data):\n",
    "        pass"
   ]
  },
  {
   "cell_type": "code",
   "execution_count": 133,
   "metadata": {},
   "outputs": [
    {
     "output_type": "execute_result",
     "data": {
      "text/plain": [
       "' Pruebas Regresión Lineal'"
      ]
     },
     "metadata": {},
     "execution_count": 133
    }
   ],
   "source": [
    "\"\"\" Pruebas Regresión Lineal\"\"\""
   ]
  },
  {
   "cell_type": "code",
   "execution_count": 134,
   "metadata": {},
   "outputs": [
    {
     "output_type": "execute_result",
     "data": {
      "text/plain": [
       "     Unnamed: 0  Age     Sex  Job Housing Saving accounts Checking account  \\\n",
       "0             0   67    male    2     own             NaN           little   \n",
       "1             1   22  female    2     own          little         moderate   \n",
       "2             2   49    male    1     own          little              NaN   \n",
       "3             3   45    male    2    free          little           little   \n",
       "4             4   53    male    2    free          little           little   \n",
       "..          ...  ...     ...  ...     ...             ...              ...   \n",
       "995         995   31  female    1     own          little              NaN   \n",
       "996         996   40    male    3     own          little           little   \n",
       "997         997   38    male    2     own          little              NaN   \n",
       "998         998   23    male    2    free          little           little   \n",
       "999         999   27    male    2     own        moderate         moderate   \n",
       "\n",
       "     Credit amount  Duration              Purpose  Risk  \n",
       "0             1169         6             radio/TV  good  \n",
       "1             5951        48             radio/TV   bad  \n",
       "2             2096        12            education  good  \n",
       "3             7882        42  furniture/equipment  good  \n",
       "4             4870        24                  car   bad  \n",
       "..             ...       ...                  ...   ...  \n",
       "995           1736        12  furniture/equipment  good  \n",
       "996           3857        30                  car  good  \n",
       "997            804        12             radio/TV  good  \n",
       "998           1845        45             radio/TV   bad  \n",
       "999           4576        45                  car  good  \n",
       "\n",
       "[1000 rows x 11 columns]"
      ],
      "text/html": "<div>\n<style scoped>\n    .dataframe tbody tr th:only-of-type {\n        vertical-align: middle;\n    }\n\n    .dataframe tbody tr th {\n        vertical-align: top;\n    }\n\n    .dataframe thead th {\n        text-align: right;\n    }\n</style>\n<table border=\"1\" class=\"dataframe\">\n  <thead>\n    <tr style=\"text-align: right;\">\n      <th></th>\n      <th>Unnamed: 0</th>\n      <th>Age</th>\n      <th>Sex</th>\n      <th>Job</th>\n      <th>Housing</th>\n      <th>Saving accounts</th>\n      <th>Checking account</th>\n      <th>Credit amount</th>\n      <th>Duration</th>\n      <th>Purpose</th>\n      <th>Risk</th>\n    </tr>\n  </thead>\n  <tbody>\n    <tr>\n      <th>0</th>\n      <td>0</td>\n      <td>67</td>\n      <td>male</td>\n      <td>2</td>\n      <td>own</td>\n      <td>NaN</td>\n      <td>little</td>\n      <td>1169</td>\n      <td>6</td>\n      <td>radio/TV</td>\n      <td>good</td>\n    </tr>\n    <tr>\n      <th>1</th>\n      <td>1</td>\n      <td>22</td>\n      <td>female</td>\n      <td>2</td>\n      <td>own</td>\n      <td>little</td>\n      <td>moderate</td>\n      <td>5951</td>\n      <td>48</td>\n      <td>radio/TV</td>\n      <td>bad</td>\n    </tr>\n    <tr>\n      <th>2</th>\n      <td>2</td>\n      <td>49</td>\n      <td>male</td>\n      <td>1</td>\n      <td>own</td>\n      <td>little</td>\n      <td>NaN</td>\n      <td>2096</td>\n      <td>12</td>\n      <td>education</td>\n      <td>good</td>\n    </tr>\n    <tr>\n      <th>3</th>\n      <td>3</td>\n      <td>45</td>\n      <td>male</td>\n      <td>2</td>\n      <td>free</td>\n      <td>little</td>\n      <td>little</td>\n      <td>7882</td>\n      <td>42</td>\n      <td>furniture/equipment</td>\n      <td>good</td>\n    </tr>\n    <tr>\n      <th>4</th>\n      <td>4</td>\n      <td>53</td>\n      <td>male</td>\n      <td>2</td>\n      <td>free</td>\n      <td>little</td>\n      <td>little</td>\n      <td>4870</td>\n      <td>24</td>\n      <td>car</td>\n      <td>bad</td>\n    </tr>\n    <tr>\n      <th>...</th>\n      <td>...</td>\n      <td>...</td>\n      <td>...</td>\n      <td>...</td>\n      <td>...</td>\n      <td>...</td>\n      <td>...</td>\n      <td>...</td>\n      <td>...</td>\n      <td>...</td>\n      <td>...</td>\n    </tr>\n    <tr>\n      <th>995</th>\n      <td>995</td>\n      <td>31</td>\n      <td>female</td>\n      <td>1</td>\n      <td>own</td>\n      <td>little</td>\n      <td>NaN</td>\n      <td>1736</td>\n      <td>12</td>\n      <td>furniture/equipment</td>\n      <td>good</td>\n    </tr>\n    <tr>\n      <th>996</th>\n      <td>996</td>\n      <td>40</td>\n      <td>male</td>\n      <td>3</td>\n      <td>own</td>\n      <td>little</td>\n      <td>little</td>\n      <td>3857</td>\n      <td>30</td>\n      <td>car</td>\n      <td>good</td>\n    </tr>\n    <tr>\n      <th>997</th>\n      <td>997</td>\n      <td>38</td>\n      <td>male</td>\n      <td>2</td>\n      <td>own</td>\n      <td>little</td>\n      <td>NaN</td>\n      <td>804</td>\n      <td>12</td>\n      <td>radio/TV</td>\n      <td>good</td>\n    </tr>\n    <tr>\n      <th>998</th>\n      <td>998</td>\n      <td>23</td>\n      <td>male</td>\n      <td>2</td>\n      <td>free</td>\n      <td>little</td>\n      <td>little</td>\n      <td>1845</td>\n      <td>45</td>\n      <td>radio/TV</td>\n      <td>bad</td>\n    </tr>\n    <tr>\n      <th>999</th>\n      <td>999</td>\n      <td>27</td>\n      <td>male</td>\n      <td>2</td>\n      <td>own</td>\n      <td>moderate</td>\n      <td>moderate</td>\n      <td>4576</td>\n      <td>45</td>\n      <td>car</td>\n      <td>good</td>\n    </tr>\n  </tbody>\n</table>\n<p>1000 rows × 11 columns</p>\n</div>"
     },
     "metadata": {},
     "execution_count": 134
    }
   ],
   "source": [
    "\"\"\" Cargar dataframe \"\"\"\n",
    "df = pd.read_csv('german_credit_data.csv')\n",
    "df\n"
   ]
  },
  {
   "cell_type": "code",
   "execution_count": 135,
   "metadata": {},
   "outputs": [],
   "source": [
    "\"\"\" Vectores de características y valor a predecir\"\"\"\n",
    "characteristicsVector = df[['Age','Duration']]\n",
    "valueToPredict = df ['Job']"
   ]
  },
  {
   "cell_type": "code",
   "execution_count": 136,
   "metadata": {},
   "outputs": [],
   "source": [
    "\"\"\" Valores de prueba del entrenamiento para predicción \"\"\"\n",
    "testValues = [[31,12],[49,20],[60,6],[75,10],[20,30]]"
   ]
  },
  {
   "cell_type": "code",
   "execution_count": 137,
   "metadata": {},
   "outputs": [
    {
     "output_type": "stream",
     "name": "stdout",
     "text": [
      "Value for [31, 12]: [2]\nValue for [49, 20]: [2]\nValue for [60, 6]: [2]\nValue for [75, 10]: [2]\nValue for [20, 30]: [2]\n"
     ]
    }
   ],
   "source": [
    "\"\"\" Predicción regresión logística \"\"\"\n",
    "clfRL = LogisticRegression()\n",
    "\n",
    "clfRL.fit(characteristicsVector,valueToPredict)\n",
    "\n",
    "for values in testValues:\n",
    "    print(f'Value for {values}: {clfRL.predict([values])}')"
   ]
  },
  {
   "cell_type": "code",
   "execution_count": 138,
   "metadata": {},
   "outputs": [
    {
     "output_type": "stream",
     "name": "stdout",
     "text": [
      "Value for [31, 12]: [1]\nValue for [49, 20]: [1]\nValue for [60, 6]: [2]\nValue for [75, 10]: [3]\nValue for [20, 30]: [2]\n"
     ]
    }
   ],
   "source": [
    "\"\"\" Predicción Árbol de decisión \"\"\"\n",
    "clfT = DecisionTreeClassifier()\n",
    "\n",
    "clfT.fit(characteristicsVector,valueToPredict)\n",
    "\n",
    "for values in testValues:\n",
    "    print(f'Value for {values}: {clfT.predict([values])}')"
   ]
  },
  {
   "cell_type": "code",
   "execution_count": 139,
   "metadata": {},
   "outputs": [
    {
     "output_type": "stream",
     "name": "stdout",
     "text": [
      "Value for [31, 12]: [2]\nValue for [49, 20]: [2]\nValue for [60, 6]: [2]\nValue for [75, 10]: [2]\nValue for [20, 30]: [2]\n"
     ]
    }
   ],
   "source": [
    "\"\"\" Predicción Redes neuronales \"\"\"\n",
    "clfNN = MLPClassifier()\n",
    "\n",
    "clfNN.fit(characteristicsVector,valueToPredict)\n",
    "\n",
    "for values in testValues:\n",
    "    print(f'Value for {values}: {clfNN.predict([values])}')"
   ]
  },
  {
   "cell_type": "code",
   "execution_count": 140,
   "metadata": {},
   "outputs": [
    {
     "output_type": "stream",
     "name": "stdout",
     "text": [
      "Value for [31, 12]: [1.7957236]\nValue for [49, 20]: [1.91166718]\nValue for [60, 6]: [1.76572527]\nValue for [75, 10]: [1.83173838]\nValue for [20, 30]: [1.98757532]\n"
     ]
    }
   ],
   "source": [
    "\"\"\" Predicción Regresión Lineal \"\"\"\n",
    "clfLinReg = LinearRegression()\n",
    "\n",
    "clfLinReg.fit(characteristicsVector,valueToPredict)\n",
    "\n",
    "for values in testValues:\n",
    "    print(f'Value for {values}: {clfLinReg.predict([values])}')"
   ]
  },
  {
   "source": [
    "\"\"\" Como pudo observarse, en la regresión logística, todos los valores convergen hacia el trabajo 2 según el entrenamiento con la edad y la duración del crédito, sin embargo, para los casos de red neuronal y árbol de decisiones, esto no ocurre, en la red neuronal, uno de los valores indica un resultado distinto a los demás y, en el árbol de decisiones, los datos son más acordes a lo que se presenta en el dataframe \"\"\""
   ],
   "cell_type": "code",
   "metadata": {},
   "execution_count": 141,
   "outputs": [
    {
     "output_type": "execute_result",
     "data": {
      "text/plain": [
       "' Como pudo observarse, en la regresión logística, todos los valores convergen hacia el trabajo 2 según el entrenamiento con la edad y la duración del crédito, sin embargo, para los casos de red neuronal y árbol de decisiones, esto no ocurre, en la red neuronal, uno de los valores indica un resultado distinto a los demás y, en el árbol de decisiones, los datos son más acordes a lo que se presenta en el dataframe '"
      ]
     },
     "metadata": {},
     "execution_count": 141
    }
   ]
  }
 ]
}